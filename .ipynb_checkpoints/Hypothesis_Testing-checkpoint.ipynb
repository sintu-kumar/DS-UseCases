{
 "cells": [
  {
   "cell_type": "code",
   "execution_count": 32,
   "id": "1017d833",
   "metadata": {},
   "outputs": [],
   "source": [
    "#!pip install nbconvert"
   ]
  },
  {
   "cell_type": "code",
   "execution_count": 1,
   "id": "a45761e6",
   "metadata": {},
   "outputs": [],
   "source": [
    "import pandas as pd\n",
    "import numpy as np\n",
    "import matplotlib.pyplot as plt\n",
    "import seaborn as sns\n",
    "\n",
    "from scipy.stats import norm, ttest_ind, ttest_rel, ttest_1samp"
   ]
  },
  {
   "cell_type": "code",
   "execution_count": 35,
   "id": "1da8196b",
   "metadata": {},
   "outputs": [
    {
     "data": {
      "text/html": [
       "<div>\n",
       "<style scoped>\n",
       "    .dataframe tbody tr th:only-of-type {\n",
       "        vertical-align: middle;\n",
       "    }\n",
       "\n",
       "    .dataframe tbody tr th {\n",
       "        vertical-align: top;\n",
       "    }\n",
       "\n",
       "    .dataframe thead th {\n",
       "        text-align: right;\n",
       "    }\n",
       "</style>\n",
       "<table border=\"1\" class=\"dataframe\">\n",
       "  <thead>\n",
       "    <tr style=\"text-align: right;\">\n",
       "      <th></th>\n",
       "      <th>datetime</th>\n",
       "      <th>season</th>\n",
       "      <th>holiday</th>\n",
       "      <th>workingday</th>\n",
       "      <th>weather</th>\n",
       "      <th>temp</th>\n",
       "      <th>atemp</th>\n",
       "      <th>humidity</th>\n",
       "      <th>windspeed</th>\n",
       "      <th>casual</th>\n",
       "      <th>registered</th>\n",
       "      <th>count</th>\n",
       "    </tr>\n",
       "  </thead>\n",
       "  <tbody>\n",
       "    <tr>\n",
       "      <th>0</th>\n",
       "      <td>2011-01-01 00:00:00</td>\n",
       "      <td>1</td>\n",
       "      <td>0</td>\n",
       "      <td>0</td>\n",
       "      <td>1</td>\n",
       "      <td>9.84</td>\n",
       "      <td>14.395</td>\n",
       "      <td>81</td>\n",
       "      <td>0.0</td>\n",
       "      <td>3</td>\n",
       "      <td>13</td>\n",
       "      <td>16</td>\n",
       "    </tr>\n",
       "    <tr>\n",
       "      <th>1</th>\n",
       "      <td>2011-01-01 01:00:00</td>\n",
       "      <td>1</td>\n",
       "      <td>0</td>\n",
       "      <td>0</td>\n",
       "      <td>1</td>\n",
       "      <td>9.02</td>\n",
       "      <td>13.635</td>\n",
       "      <td>80</td>\n",
       "      <td>0.0</td>\n",
       "      <td>8</td>\n",
       "      <td>32</td>\n",
       "      <td>40</td>\n",
       "    </tr>\n",
       "    <tr>\n",
       "      <th>2</th>\n",
       "      <td>2011-01-01 02:00:00</td>\n",
       "      <td>1</td>\n",
       "      <td>0</td>\n",
       "      <td>0</td>\n",
       "      <td>1</td>\n",
       "      <td>9.02</td>\n",
       "      <td>13.635</td>\n",
       "      <td>80</td>\n",
       "      <td>0.0</td>\n",
       "      <td>5</td>\n",
       "      <td>27</td>\n",
       "      <td>32</td>\n",
       "    </tr>\n",
       "    <tr>\n",
       "      <th>3</th>\n",
       "      <td>2011-01-01 03:00:00</td>\n",
       "      <td>1</td>\n",
       "      <td>0</td>\n",
       "      <td>0</td>\n",
       "      <td>1</td>\n",
       "      <td>9.84</td>\n",
       "      <td>14.395</td>\n",
       "      <td>75</td>\n",
       "      <td>0.0</td>\n",
       "      <td>3</td>\n",
       "      <td>10</td>\n",
       "      <td>13</td>\n",
       "    </tr>\n",
       "    <tr>\n",
       "      <th>4</th>\n",
       "      <td>2011-01-01 04:00:00</td>\n",
       "      <td>1</td>\n",
       "      <td>0</td>\n",
       "      <td>0</td>\n",
       "      <td>1</td>\n",
       "      <td>9.84</td>\n",
       "      <td>14.395</td>\n",
       "      <td>75</td>\n",
       "      <td>0.0</td>\n",
       "      <td>0</td>\n",
       "      <td>1</td>\n",
       "      <td>1</td>\n",
       "    </tr>\n",
       "  </tbody>\n",
       "</table>\n",
       "</div>"
      ],
      "text/plain": [
       "              datetime  season  holiday  workingday  weather  temp   atemp  \\\n",
       "0  2011-01-01 00:00:00       1        0           0        1  9.84  14.395   \n",
       "1  2011-01-01 01:00:00       1        0           0        1  9.02  13.635   \n",
       "2  2011-01-01 02:00:00       1        0           0        1  9.02  13.635   \n",
       "3  2011-01-01 03:00:00       1        0           0        1  9.84  14.395   \n",
       "4  2011-01-01 04:00:00       1        0           0        1  9.84  14.395   \n",
       "\n",
       "   humidity  windspeed  casual  registered  count  \n",
       "0        81        0.0       3          13     16  \n",
       "1        80        0.0       8          32     40  \n",
       "2        80        0.0       5          27     32  \n",
       "3        75        0.0       3          10     13  \n",
       "4        75        0.0       0           1      1  "
      ]
     },
     "execution_count": 35,
     "metadata": {},
     "output_type": "execute_result"
    }
   ],
   "source": [
    "data = pd.read_csv('Yulu_bike_sharing.csv')\n",
    "data.head()"
   ]
  },
  {
   "cell_type": "code",
   "execution_count": 3,
   "id": "8e42e996",
   "metadata": {},
   "outputs": [
    {
     "data": {
      "text/plain": [
       "datetime       object\n",
       "season          int64\n",
       "holiday         int64\n",
       "workingday      int64\n",
       "weather         int64\n",
       "temp          float64\n",
       "atemp         float64\n",
       "humidity        int64\n",
       "windspeed     float64\n",
       "casual          int64\n",
       "registered      int64\n",
       "count           int64\n",
       "dtype: object"
      ]
     },
     "execution_count": 3,
     "metadata": {},
     "output_type": "execute_result"
    }
   ],
   "source": [
    "# Problem: Perform EDA on the dataset and check the feature significance in terms of bicycle renting.\n",
    "data.dtypes"
   ]
  },
  {
   "cell_type": "code",
   "execution_count": 4,
   "id": "d8b8b7a3",
   "metadata": {},
   "outputs": [
    {
     "data": {
      "text/plain": [
       "1    7412\n",
       "0    3474\n",
       "Name: workingday, dtype: int64"
      ]
     },
     "execution_count": 4,
     "metadata": {},
     "output_type": "execute_result"
    }
   ],
   "source": [
    "data['workingday'].value_counts()"
   ]
  },
  {
   "cell_type": "code",
   "execution_count": 5,
   "id": "9ee9ea00",
   "metadata": {},
   "outputs": [
    {
     "data": {
      "text/plain": [
       "(10886, 12)"
      ]
     },
     "execution_count": 5,
     "metadata": {},
     "output_type": "execute_result"
    }
   ],
   "source": [
    "data.shape"
   ]
  },
  {
   "cell_type": "code",
   "execution_count": 6,
   "id": "7f562a49",
   "metadata": {},
   "outputs": [
    {
     "data": {
      "text/html": [
       "<div>\n",
       "<style scoped>\n",
       "    .dataframe tbody tr th:only-of-type {\n",
       "        vertical-align: middle;\n",
       "    }\n",
       "\n",
       "    .dataframe tbody tr th {\n",
       "        vertical-align: top;\n",
       "    }\n",
       "\n",
       "    .dataframe thead th {\n",
       "        text-align: right;\n",
       "    }\n",
       "</style>\n",
       "<table border=\"1\" class=\"dataframe\">\n",
       "  <thead>\n",
       "    <tr style=\"text-align: right;\">\n",
       "      <th></th>\n",
       "      <th>season</th>\n",
       "      <th>holiday</th>\n",
       "      <th>workingday</th>\n",
       "      <th>weather</th>\n",
       "      <th>temp</th>\n",
       "      <th>atemp</th>\n",
       "      <th>humidity</th>\n",
       "      <th>windspeed</th>\n",
       "      <th>casual</th>\n",
       "      <th>registered</th>\n",
       "      <th>count</th>\n",
       "    </tr>\n",
       "  </thead>\n",
       "  <tbody>\n",
       "    <tr>\n",
       "      <th>count</th>\n",
       "      <td>10886.000000</td>\n",
       "      <td>10886.000000</td>\n",
       "      <td>10886.000000</td>\n",
       "      <td>10886.000000</td>\n",
       "      <td>10886.00000</td>\n",
       "      <td>10886.000000</td>\n",
       "      <td>10886.000000</td>\n",
       "      <td>10886.000000</td>\n",
       "      <td>10886.000000</td>\n",
       "      <td>10886.000000</td>\n",
       "      <td>10886.000000</td>\n",
       "    </tr>\n",
       "    <tr>\n",
       "      <th>mean</th>\n",
       "      <td>2.506614</td>\n",
       "      <td>0.028569</td>\n",
       "      <td>0.680875</td>\n",
       "      <td>1.418427</td>\n",
       "      <td>20.23086</td>\n",
       "      <td>23.655084</td>\n",
       "      <td>61.886460</td>\n",
       "      <td>12.799395</td>\n",
       "      <td>36.021955</td>\n",
       "      <td>155.552177</td>\n",
       "      <td>191.574132</td>\n",
       "    </tr>\n",
       "    <tr>\n",
       "      <th>std</th>\n",
       "      <td>1.116174</td>\n",
       "      <td>0.166599</td>\n",
       "      <td>0.466159</td>\n",
       "      <td>0.633839</td>\n",
       "      <td>7.79159</td>\n",
       "      <td>8.474601</td>\n",
       "      <td>19.245033</td>\n",
       "      <td>8.164537</td>\n",
       "      <td>49.960477</td>\n",
       "      <td>151.039033</td>\n",
       "      <td>181.144454</td>\n",
       "    </tr>\n",
       "    <tr>\n",
       "      <th>min</th>\n",
       "      <td>1.000000</td>\n",
       "      <td>0.000000</td>\n",
       "      <td>0.000000</td>\n",
       "      <td>1.000000</td>\n",
       "      <td>0.82000</td>\n",
       "      <td>0.760000</td>\n",
       "      <td>0.000000</td>\n",
       "      <td>0.000000</td>\n",
       "      <td>0.000000</td>\n",
       "      <td>0.000000</td>\n",
       "      <td>1.000000</td>\n",
       "    </tr>\n",
       "    <tr>\n",
       "      <th>25%</th>\n",
       "      <td>2.000000</td>\n",
       "      <td>0.000000</td>\n",
       "      <td>0.000000</td>\n",
       "      <td>1.000000</td>\n",
       "      <td>13.94000</td>\n",
       "      <td>16.665000</td>\n",
       "      <td>47.000000</td>\n",
       "      <td>7.001500</td>\n",
       "      <td>4.000000</td>\n",
       "      <td>36.000000</td>\n",
       "      <td>42.000000</td>\n",
       "    </tr>\n",
       "    <tr>\n",
       "      <th>50%</th>\n",
       "      <td>3.000000</td>\n",
       "      <td>0.000000</td>\n",
       "      <td>1.000000</td>\n",
       "      <td>1.000000</td>\n",
       "      <td>20.50000</td>\n",
       "      <td>24.240000</td>\n",
       "      <td>62.000000</td>\n",
       "      <td>12.998000</td>\n",
       "      <td>17.000000</td>\n",
       "      <td>118.000000</td>\n",
       "      <td>145.000000</td>\n",
       "    </tr>\n",
       "    <tr>\n",
       "      <th>75%</th>\n",
       "      <td>4.000000</td>\n",
       "      <td>0.000000</td>\n",
       "      <td>1.000000</td>\n",
       "      <td>2.000000</td>\n",
       "      <td>26.24000</td>\n",
       "      <td>31.060000</td>\n",
       "      <td>77.000000</td>\n",
       "      <td>16.997900</td>\n",
       "      <td>49.000000</td>\n",
       "      <td>222.000000</td>\n",
       "      <td>284.000000</td>\n",
       "    </tr>\n",
       "    <tr>\n",
       "      <th>max</th>\n",
       "      <td>4.000000</td>\n",
       "      <td>1.000000</td>\n",
       "      <td>1.000000</td>\n",
       "      <td>4.000000</td>\n",
       "      <td>41.00000</td>\n",
       "      <td>45.455000</td>\n",
       "      <td>100.000000</td>\n",
       "      <td>56.996900</td>\n",
       "      <td>367.000000</td>\n",
       "      <td>886.000000</td>\n",
       "      <td>977.000000</td>\n",
       "    </tr>\n",
       "  </tbody>\n",
       "</table>\n",
       "</div>"
      ],
      "text/plain": [
       "             season       holiday    workingday       weather         temp  \\\n",
       "count  10886.000000  10886.000000  10886.000000  10886.000000  10886.00000   \n",
       "mean       2.506614      0.028569      0.680875      1.418427     20.23086   \n",
       "std        1.116174      0.166599      0.466159      0.633839      7.79159   \n",
       "min        1.000000      0.000000      0.000000      1.000000      0.82000   \n",
       "25%        2.000000      0.000000      0.000000      1.000000     13.94000   \n",
       "50%        3.000000      0.000000      1.000000      1.000000     20.50000   \n",
       "75%        4.000000      0.000000      1.000000      2.000000     26.24000   \n",
       "max        4.000000      1.000000      1.000000      4.000000     41.00000   \n",
       "\n",
       "              atemp      humidity     windspeed        casual    registered  \\\n",
       "count  10886.000000  10886.000000  10886.000000  10886.000000  10886.000000   \n",
       "mean      23.655084     61.886460     12.799395     36.021955    155.552177   \n",
       "std        8.474601     19.245033      8.164537     49.960477    151.039033   \n",
       "min        0.760000      0.000000      0.000000      0.000000      0.000000   \n",
       "25%       16.665000     47.000000      7.001500      4.000000     36.000000   \n",
       "50%       24.240000     62.000000     12.998000     17.000000    118.000000   \n",
       "75%       31.060000     77.000000     16.997900     49.000000    222.000000   \n",
       "max       45.455000    100.000000     56.996900    367.000000    886.000000   \n",
       "\n",
       "              count  \n",
       "count  10886.000000  \n",
       "mean     191.574132  \n",
       "std      181.144454  \n",
       "min        1.000000  \n",
       "25%       42.000000  \n",
       "50%      145.000000  \n",
       "75%      284.000000  \n",
       "max      977.000000  "
      ]
     },
     "execution_count": 6,
     "metadata": {},
     "output_type": "execute_result"
    }
   ],
   "source": [
    "data.describe()"
   ]
  },
  {
   "cell_type": "code",
   "execution_count": 7,
   "id": "4057caee",
   "metadata": {},
   "outputs": [
    {
     "data": {
      "text/plain": [
       "10886"
      ]
     },
     "execution_count": 7,
     "metadata": {},
     "output_type": "execute_result"
    }
   ],
   "source": [
    "len(data['datetime'])"
   ]
  },
  {
   "cell_type": "code",
   "execution_count": 1,
   "id": "6e3e1a3b",
   "metadata": {},
   "outputs": [],
   "source": [
    "# from pandas_profiling import ProfileReport\n",
    "\n",
    "# ProfileReport(data)"
   ]
  },
  {
   "cell_type": "code",
   "execution_count": 9,
   "id": "c327845d",
   "metadata": {},
   "outputs": [],
   "source": [
    "# From above we can seee that count of each feature is 10886 and It infers that there are no missing value.\n",
    "# Here we have many categorical feture but It's already encoded in nuumerical formats so we don't need to perform \n",
    "# Label, Target, One-hot etc encodings"
   ]
  },
  {
   "cell_type": "code",
   "execution_count": 39,
   "id": "847a357c",
   "metadata": {},
   "outputs": [
    {
     "name": "stderr",
     "output_type": "stream",
     "text": [
      "F:\\Anaconda\\lib\\site-packages\\seaborn\\_decorators.py:36: FutureWarning: Pass the following variable as a keyword arg: x. From version 0.12, the only valid positional argument will be `data`, and passing other arguments without an explicit keyword will result in an error or misinterpretation.\n",
      "  warnings.warn(\n"
     ]
    },
    {
     "data": {
      "text/plain": [
       "<AxesSubplot:xlabel='season'>"
      ]
     },
     "execution_count": 39,
     "metadata": {},
     "output_type": "execute_result"
    },
    {
     "data": {
      "image/png": "[encoded data removed]",
      "text/plain": [
       "<Figure size 432x288 with 1 Axes>"
      ]
     },
     "metadata": {
      "needs_background": "light"
     },
     "output_type": "display_data"
    }
   ],
   "source": [
    "#Univariate analysis\n",
    "sns.barplot(data['season'], data = data)\n",
    "# From here we can infer that there are almost same no of data available for each season."
   ]
  },
  {
   "cell_type": "code",
   "execution_count": 41,
   "id": "a1186dcd",
   "metadata": {},
   "outputs": [
    {
     "data": {
      "text/html": [
       "<div>\n",
       "<style scoped>\n",
       "    .dataframe tbody tr th:only-of-type {\n",
       "        vertical-align: middle;\n",
       "    }\n",
       "\n",
       "    .dataframe tbody tr th {\n",
       "        vertical-align: top;\n",
       "    }\n",
       "\n",
       "    .dataframe thead th {\n",
       "        text-align: right;\n",
       "    }\n",
       "</style>\n",
       "<table border=\"1\" class=\"dataframe\">\n",
       "  <thead>\n",
       "    <tr style=\"text-align: right;\">\n",
       "      <th></th>\n",
       "      <th>datetime</th>\n",
       "      <th>season</th>\n",
       "      <th>holiday</th>\n",
       "      <th>workingday</th>\n",
       "      <th>weather</th>\n",
       "      <th>temp</th>\n",
       "      <th>atemp</th>\n",
       "      <th>humidity</th>\n",
       "      <th>windspeed</th>\n",
       "      <th>casual</th>\n",
       "      <th>registered</th>\n",
       "      <th>count</th>\n",
       "    </tr>\n",
       "  </thead>\n",
       "  <tbody>\n",
       "    <tr>\n",
       "      <th>0</th>\n",
       "      <td>2011-01-01 00:00:00</td>\n",
       "      <td>1</td>\n",
       "      <td>0</td>\n",
       "      <td>0</td>\n",
       "      <td>1</td>\n",
       "      <td>9.84</td>\n",
       "      <td>14.395</td>\n",
       "      <td>81</td>\n",
       "      <td>0.0000</td>\n",
       "      <td>3</td>\n",
       "      <td>13</td>\n",
       "      <td>16</td>\n",
       "    </tr>\n",
       "    <tr>\n",
       "      <th>1</th>\n",
       "      <td>2011-01-01 01:00:00</td>\n",
       "      <td>1</td>\n",
       "      <td>0</td>\n",
       "      <td>0</td>\n",
       "      <td>1</td>\n",
       "      <td>9.02</td>\n",
       "      <td>13.635</td>\n",
       "      <td>80</td>\n",
       "      <td>0.0000</td>\n",
       "      <td>8</td>\n",
       "      <td>32</td>\n",
       "      <td>40</td>\n",
       "    </tr>\n",
       "    <tr>\n",
       "      <th>2</th>\n",
       "      <td>2011-01-01 02:00:00</td>\n",
       "      <td>1</td>\n",
       "      <td>0</td>\n",
       "      <td>0</td>\n",
       "      <td>1</td>\n",
       "      <td>9.02</td>\n",
       "      <td>13.635</td>\n",
       "      <td>80</td>\n",
       "      <td>0.0000</td>\n",
       "      <td>5</td>\n",
       "      <td>27</td>\n",
       "      <td>32</td>\n",
       "    </tr>\n",
       "    <tr>\n",
       "      <th>3</th>\n",
       "      <td>2011-01-01 03:00:00</td>\n",
       "      <td>1</td>\n",
       "      <td>0</td>\n",
       "      <td>0</td>\n",
       "      <td>1</td>\n",
       "      <td>9.84</td>\n",
       "      <td>14.395</td>\n",
       "      <td>75</td>\n",
       "      <td>0.0000</td>\n",
       "      <td>3</td>\n",
       "      <td>10</td>\n",
       "      <td>13</td>\n",
       "    </tr>\n",
       "    <tr>\n",
       "      <th>4</th>\n",
       "      <td>2011-01-01 04:00:00</td>\n",
       "      <td>1</td>\n",
       "      <td>0</td>\n",
       "      <td>0</td>\n",
       "      <td>1</td>\n",
       "      <td>9.84</td>\n",
       "      <td>14.395</td>\n",
       "      <td>75</td>\n",
       "      <td>0.0000</td>\n",
       "      <td>0</td>\n",
       "      <td>1</td>\n",
       "      <td>1</td>\n",
       "    </tr>\n",
       "    <tr>\n",
       "      <th>...</th>\n",
       "      <td>...</td>\n",
       "      <td>...</td>\n",
       "      <td>...</td>\n",
       "      <td>...</td>\n",
       "      <td>...</td>\n",
       "      <td>...</td>\n",
       "      <td>...</td>\n",
       "      <td>...</td>\n",
       "      <td>...</td>\n",
       "      <td>...</td>\n",
       "      <td>...</td>\n",
       "      <td>...</td>\n",
       "    </tr>\n",
       "    <tr>\n",
       "      <th>6780</th>\n",
       "      <td>2012-03-19 19:00:00</td>\n",
       "      <td>1</td>\n",
       "      <td>0</td>\n",
       "      <td>1</td>\n",
       "      <td>1</td>\n",
       "      <td>25.42</td>\n",
       "      <td>30.305</td>\n",
       "      <td>61</td>\n",
       "      <td>15.0013</td>\n",
       "      <td>86</td>\n",
       "      <td>463</td>\n",
       "      <td>549</td>\n",
       "    </tr>\n",
       "    <tr>\n",
       "      <th>6781</th>\n",
       "      <td>2012-03-19 20:00:00</td>\n",
       "      <td>1</td>\n",
       "      <td>0</td>\n",
       "      <td>1</td>\n",
       "      <td>1</td>\n",
       "      <td>24.60</td>\n",
       "      <td>30.305</td>\n",
       "      <td>64</td>\n",
       "      <td>15.0013</td>\n",
       "      <td>34</td>\n",
       "      <td>296</td>\n",
       "      <td>330</td>\n",
       "    </tr>\n",
       "    <tr>\n",
       "      <th>6782</th>\n",
       "      <td>2012-03-19 21:00:00</td>\n",
       "      <td>1</td>\n",
       "      <td>0</td>\n",
       "      <td>1</td>\n",
       "      <td>1</td>\n",
       "      <td>24.60</td>\n",
       "      <td>30.305</td>\n",
       "      <td>64</td>\n",
       "      <td>11.0014</td>\n",
       "      <td>33</td>\n",
       "      <td>190</td>\n",
       "      <td>223</td>\n",
       "    </tr>\n",
       "    <tr>\n",
       "      <th>6783</th>\n",
       "      <td>2012-03-19 22:00:00</td>\n",
       "      <td>1</td>\n",
       "      <td>0</td>\n",
       "      <td>1</td>\n",
       "      <td>2</td>\n",
       "      <td>22.96</td>\n",
       "      <td>26.515</td>\n",
       "      <td>73</td>\n",
       "      <td>11.0014</td>\n",
       "      <td>17</td>\n",
       "      <td>131</td>\n",
       "      <td>148</td>\n",
       "    </tr>\n",
       "    <tr>\n",
       "      <th>6784</th>\n",
       "      <td>2012-03-19 23:00:00</td>\n",
       "      <td>1</td>\n",
       "      <td>0</td>\n",
       "      <td>1</td>\n",
       "      <td>2</td>\n",
       "      <td>22.96</td>\n",
       "      <td>26.515</td>\n",
       "      <td>78</td>\n",
       "      <td>8.9981</td>\n",
       "      <td>9</td>\n",
       "      <td>45</td>\n",
       "      <td>54</td>\n",
       "    </tr>\n",
       "  </tbody>\n",
       "</table>\n",
       "<p>2686 rows × 12 columns</p>\n",
       "</div>"
      ],
      "text/plain": [
       "                 datetime  season  holiday  workingday  weather   temp  \\\n",
       "0     2011-01-01 00:00:00       1        0           0        1   9.84   \n",
       "1     2011-01-01 01:00:00       1        0           0        1   9.02   \n",
       "2     2011-01-01 02:00:00       1        0           0        1   9.02   \n",
       "3     2011-01-01 03:00:00       1        0           0        1   9.84   \n",
       "4     2011-01-01 04:00:00       1        0           0        1   9.84   \n",
       "...                   ...     ...      ...         ...      ...    ...   \n",
       "6780  2012-03-19 19:00:00       1        0           1        1  25.42   \n",
       "6781  2012-03-19 20:00:00       1        0           1        1  24.60   \n",
       "6782  2012-03-19 21:00:00       1        0           1        1  24.60   \n",
       "6783  2012-03-19 22:00:00       1        0           1        2  22.96   \n",
       "6784  2012-03-19 23:00:00       1        0           1        2  22.96   \n",
       "\n",
       "       atemp  humidity  windspeed  casual  registered  count  \n",
       "0     14.395        81     0.0000       3          13     16  \n",
       "1     13.635        80     0.0000       8          32     40  \n",
       "2     13.635        80     0.0000       5          27     32  \n",
       "3     14.395        75     0.0000       3          10     13  \n",
       "4     14.395        75     0.0000       0           1      1  \n",
       "...      ...       ...        ...     ...         ...    ...  \n",
       "6780  30.305        61    15.0013      86         463    549  \n",
       "6781  30.305        64    15.0013      34         296    330  \n",
       "6782  30.305        64    11.0014      33         190    223  \n",
       "6783  26.515        73    11.0014      17         131    148  \n",
       "6784  26.515        78     8.9981       9          45     54  \n",
       "\n",
       "[2686 rows x 12 columns]"
      ]
     },
     "execution_count": 41,
     "metadata": {},
     "output_type": "execute_result"
    }
   ],
   "source": [
    "data[data['season']==1]"
   ]
  },
  {
   "cell_type": "code",
   "execution_count": 44,
   "id": "e0c9656b",
   "metadata": {},
   "outputs": [
    {
     "data": {
      "text/plain": [
       "<AxesSubplot:xlabel='temp', ylabel='count'>"
      ]
     },
     "execution_count": 44,
     "metadata": {},
     "output_type": "execute_result"
    },
    {
     "data": {
      "image/png": "[encoded data removed]",
      "text/plain": [
       "<Figure size 432x288 with 1 Axes>"
      ]
     },
     "metadata": {
      "needs_background": "light"
     },
     "output_type": "display_data"
    }
   ],
   "source": [
    "sns.boxplot(x = data['temp'], y = data['count'], data=data)"
   ]
  },
  {
   "cell_type": "code",
   "execution_count": 11,
   "id": "58cffe2a",
   "metadata": {},
   "outputs": [
    {
     "name": "stderr",
     "output_type": "stream",
     "text": [
      "F:\\Anaconda\\lib\\site-packages\\seaborn\\_decorators.py:36: FutureWarning: Pass the following variable as a keyword arg: x. From version 0.12, the only valid positional argument will be `data`, and passing other arguments without an explicit keyword will result in an error or misinterpretation.\n",
      "  warnings.warn(\n"
     ]
    },
    {
     "data": {
      "text/plain": [
       "<AxesSubplot:xlabel='holiday', ylabel='count'>"
      ]
     },
     "execution_count": 11,
     "metadata": {},
     "output_type": "execute_result"
    },
    {
     "data": {
      "image/png": "[encoded data removed]",
      "text/plain": [
       "<Figure size 432x288 with 1 Axes>"
      ]
     },
     "metadata": {
      "needs_background": "light"
     },
     "output_type": "display_data"
    }
   ],
   "source": [
    "sns.countplot('holiday', data = data)\n",
    "# From this plot, we can infer that there are lots of cycle rented on not holiday."
   ]
  },
  {
   "cell_type": "code",
   "execution_count": 12,
   "id": "e4fea98b",
   "metadata": {},
   "outputs": [
    {
     "name": "stderr",
     "output_type": "stream",
     "text": [
      "F:\\Anaconda\\lib\\site-packages\\seaborn\\_decorators.py:36: FutureWarning: Pass the following variable as a keyword arg: x. From version 0.12, the only valid positional argument will be `data`, and passing other arguments without an explicit keyword will result in an error or misinterpretation.\n",
      "  warnings.warn(\n"
     ]
    },
    {
     "data": {
      "text/plain": [
       "<AxesSubplot:xlabel='workingday', ylabel='count'>"
      ]
     },
     "execution_count": 12,
     "metadata": {},
     "output_type": "execute_result"
    },
    {
     "data": {
      "image/png": "[encoded data removed]",
      "text/plain": [
       "<Figure size 432x288 with 1 Axes>"
      ]
     },
     "metadata": {
      "needs_background": "light"
     },
     "output_type": "display_data"
    }
   ],
   "source": [
    "sns.countplot('workingday', data = data)\n",
    "# From this plot we can infer that almost double cycle rented on working day."
   ]
  },
  {
   "cell_type": "code",
   "execution_count": 13,
   "id": "9f36bb57",
   "metadata": {},
   "outputs": [
    {
     "name": "stderr",
     "output_type": "stream",
     "text": [
      "F:\\Anaconda\\lib\\site-packages\\seaborn\\_decorators.py:36: FutureWarning: Pass the following variable as a keyword arg: x. From version 0.12, the only valid positional argument will be `data`, and passing other arguments without an explicit keyword will result in an error or misinterpretation.\n",
      "  warnings.warn(\n"
     ]
    },
    {
     "data": {
      "text/plain": [
       "<AxesSubplot:xlabel='weather', ylabel='count'>"
      ]
     },
     "execution_count": 13,
     "metadata": {},
     "output_type": "execute_result"
    },
    {
     "data": {
      "image/png": "[encoded data removed]",
      "text/plain": [
       "<Figure size 432x288 with 1 Axes>"
      ]
     },
     "metadata": {
      "needs_background": "light"
     },
     "output_type": "display_data"
    }
   ],
   "source": [
    "sns.countplot('weather', data = data)\n",
    "# From here, we can infer that almost no cycle rented on rainy weather and most of the rented on (Clear, Few clouds, partly cloudy, partly cloudy) weather"
   ]
  },
  {
   "cell_type": "code",
   "execution_count": 14,
   "id": "b33493d6",
   "metadata": {},
   "outputs": [
    {
     "data": {
      "text/plain": [
       "<AxesSubplot:xlabel='workingday', ylabel='count'>"
      ]
     },
     "execution_count": 14,
     "metadata": {},
     "output_type": "execute_result"
    },
    {
     "data": {
      "image/png": "[encoded data removed]",
      "text/plain": [
       "<Figure size 432x288 with 1 Axes>"
      ]
     },
     "metadata": {
      "needs_background": "light"
     },
     "output_type": "display_data"
    }
   ],
   "source": [
    "#Bi-variate analysis\n",
    "sns.boxplot(x='workingday', y='count', data = data)"
   ]
  },
  {
   "cell_type": "code",
   "execution_count": 15,
   "id": "53b3bef7",
   "metadata": {},
   "outputs": [],
   "source": [
    "# From above boxplot, we can infer that there are some outliers in upper region in our data. \n",
    "# For finding outliers using boxplot, assuming the data will outlier if It will greater than Q3+1.5*IQR\n",
    "# Below \"outliers\" function will print the number of outliers for corresponding working/non-working day"
   ]
  },
  {
   "cell_type": "code",
   "execution_count": 16,
   "id": "858e9e5f",
   "metadata": {},
   "outputs": [
    {
     "name": "stdout",
     "output_type": "stream",
     "text": [
      "No of outliers for workingday 0 is: 807\n",
      "No of outliers for workingday 1 is: 1078\n"
     ]
    },
    {
     "name": "stderr",
     "output_type": "stream",
     "text": [
      "<ipython-input-16-53f61b134f9c>:8: UserWarning: Boolean Series key will be reindexed to match DataFrame index.\n",
      "  return len(data[data['workingday']==workingday][data['count']>ul])\n",
      "<ipython-input-16-53f61b134f9c>:8: UserWarning: Boolean Series key will be reindexed to match DataFrame index.\n",
      "  return len(data[data['workingday']==workingday][data['count']>ul])\n"
     ]
    }
   ],
   "source": [
    "def outliers(workingday):\n",
    "    Q1 = np.percentile(data[data['workingday']==workingday][['workingday', 'count']], 25, interpolation = 'midpoint') \n",
    "    Q2 = np.percentile(data[data['workingday']==workingday][['workingday', 'count']], 50, interpolation = 'midpoint') \n",
    "    Q3 = np.percentile(data[data['workingday']==workingday][['workingday', 'count']], 75, interpolation = 'midpoint')\n",
    "    IQR = Q3-Q1\n",
    "    #print(Q1, Q2, Q3, IQR)\n",
    "    ul = Q3+(1.5*IQR)\n",
    "    return len(data[data['workingday']==workingday][data['count']>ul])\n",
    "\n",
    "for i in range(2):\n",
    "    x = outliers(i)\n",
    "    print(f\"No of outliers for workingday {i} is: {x}\")"
   ]
  },
  {
   "cell_type": "code",
   "execution_count": 17,
   "id": "65735efe",
   "metadata": {},
   "outputs": [
    {
     "data": {
      "text/plain": [
       "<AxesSubplot:xlabel='season', ylabel='count'>"
      ]
     },
     "execution_count": 17,
     "metadata": {},
     "output_type": "execute_result"
    },
    {
     "data": {
      "image/png": "[encoded data removed]",
      "text/plain": [
       "<Figure size 432x288 with 1 Axes>"
      ]
     },
     "metadata": {
      "needs_background": "light"
     },
     "output_type": "display_data"
    }
   ],
   "source": [
    "sns.boxplot(x='season', y='count', data = data)"
   ]
  },
  {
   "cell_type": "code",
   "execution_count": 18,
   "id": "80095785",
   "metadata": {},
   "outputs": [],
   "source": [
    "# From above boxplot, we can infer that there are some outliers in upper region in our data. \n",
    "# For finding outliers using boxplot, assuming the data will outlier if It will greater than Q3+1.5*IQR\n",
    "# Below \"outliers\" function will print the number of outliers for each season"
   ]
  },
  {
   "cell_type": "code",
   "execution_count": 19,
   "id": "95395fbe",
   "metadata": {},
   "outputs": [
    {
     "name": "stdout",
     "output_type": "stream",
     "text": [
      "No of outliers for season 1 is: 533\n",
      "No of outliers for season 2 is: 399\n",
      "No of outliers for season 3 is: 322\n",
      "No of outliers for season 4 is: 380\n"
     ]
    },
    {
     "name": "stderr",
     "output_type": "stream",
     "text": [
      "<ipython-input-19-67498eac5582>:8: UserWarning: Boolean Series key will be reindexed to match DataFrame index.\n",
      "  return len(data[data['season']==season][data['count']>ul])\n",
      "<ipython-input-19-67498eac5582>:8: UserWarning: Boolean Series key will be reindexed to match DataFrame index.\n",
      "  return len(data[data['season']==season][data['count']>ul])\n",
      "<ipython-input-19-67498eac5582>:8: UserWarning: Boolean Series key will be reindexed to match DataFrame index.\n",
      "  return len(data[data['season']==season][data['count']>ul])\n",
      "<ipython-input-19-67498eac5582>:8: UserWarning: Boolean Series key will be reindexed to match DataFrame index.\n",
      "  return len(data[data['season']==season][data['count']>ul])\n"
     ]
    }
   ],
   "source": [
    "def outliers(season):\n",
    "    Q1 = np.percentile(data[data['season']==season][['season', 'count']], 25, interpolation = 'midpoint') \n",
    "    Q2 = np.percentile(data[data['season']==season][['season', 'count']], 50, interpolation = 'midpoint') \n",
    "    Q3 = np.percentile(data[data['season']==season][['season', 'count']], 75, interpolation = 'midpoint')\n",
    "    IQR = Q3-Q1\n",
    "    #print(Q1, Q2, Q3, IQR)\n",
    "    ul = Q3+(1.5*IQR)\n",
    "    return len(data[data['season']==season][data['count']>ul])\n",
    "\n",
    "for i in range(1,5):\n",
    "    x = outliers(i)\n",
    "    print(f\"No of outliers for season {i} is: {x}\")"
   ]
  },
  {
   "cell_type": "code",
   "execution_count": 20,
   "id": "c54db054",
   "metadata": {},
   "outputs": [
    {
     "data": {
      "text/plain": [
       "<AxesSubplot:xlabel='weather', ylabel='count'>"
      ]
     },
     "execution_count": 20,
     "metadata": {},
     "output_type": "execute_result"
    },
    {
     "data": {
      "image/png": "[encoded data removed]",
      "text/plain": [
       "<Figure size 432x288 with 1 Axes>"
      ]
     },
     "metadata": {
      "needs_background": "light"
     },
     "output_type": "display_data"
    }
   ],
   "source": [
    "sns.boxplot(x= 'weather', y = 'count', data = data)"
   ]
  },
  {
   "cell_type": "code",
   "execution_count": 21,
   "id": "2d11de5d",
   "metadata": {},
   "outputs": [],
   "source": [
    "# From above boxplot, we can infer that there are some outliers in upper region in our data. \n",
    "# For finding outliers using boxplot, assuming the data will outlier if It will greater than Q3+1.5*IQR\n",
    "# Below \"outliers\" function will print the number of outliers for each weather"
   ]
  },
  {
   "cell_type": "code",
   "execution_count": 22,
   "id": "fe16e2b4",
   "metadata": {},
   "outputs": [
    {
     "name": "stdout",
     "output_type": "stream",
     "text": [
      "No of outliers for weather 1 is: 1095\n",
      "No of outliers for weather 2 is: 467\n",
      "No of outliers for weather 3 is: 188\n"
     ]
    },
    {
     "name": "stderr",
     "output_type": "stream",
     "text": [
      "<ipython-input-22-0526cd81297b>:8: UserWarning: Boolean Series key will be reindexed to match DataFrame index.\n",
      "  return len(data[data['weather']==weather][data['count']>ul])\n",
      "<ipython-input-22-0526cd81297b>:8: UserWarning: Boolean Series key will be reindexed to match DataFrame index.\n",
      "  return len(data[data['weather']==weather][data['count']>ul])\n",
      "<ipython-input-22-0526cd81297b>:8: UserWarning: Boolean Series key will be reindexed to match DataFrame index.\n",
      "  return len(data[data['weather']==weather][data['count']>ul])\n"
     ]
    }
   ],
   "source": [
    "def outliers(weather):\n",
    "    Q1 = np.percentile(data[data['weather']==weather][['weather', 'count']], 25, interpolation = 'midpoint') \n",
    "    Q2 = np.percentile(data[data['weather']==weather][['weather', 'count']], 50, interpolation = 'midpoint') \n",
    "    Q3 = np.percentile(data[data['weather']==weather][['weather', 'count']], 75, interpolation = 'midpoint')\n",
    "    IQR = Q3-Q1\n",
    "    #print(Q1, Q2, Q3, IQR)\n",
    "    ul = Q3+(1.5*IQR)\n",
    "    return len(data[data['weather']==weather][data['count']>ul])\n",
    "\n",
    "for i in range(1,4):\n",
    "    x = outliers(i)\n",
    "    print(f\"No of outliers for weather {i} is: {x}\")"
   ]
  },
  {
   "cell_type": "code",
   "execution_count": 23,
   "id": "fad2b529",
   "metadata": {},
   "outputs": [
    {
     "data": {
      "text/plain": [
       "Index(['datetime', 'season', 'holiday', 'workingday', 'weather', 'temp',\n",
       "       'atemp', 'humidity', 'windspeed', 'casual', 'registered', 'count'],\n",
       "      dtype='object')"
      ]
     },
     "execution_count": 23,
     "metadata": {},
     "output_type": "execute_result"
    }
   ],
   "source": [
    "data.columns"
   ]
  },
  {
   "cell_type": "code",
   "execution_count": 24,
   "id": "401f497f",
   "metadata": {},
   "outputs": [
    {
     "name": "stdout",
     "output_type": "stream",
     "text": [
      "193.01187263896384\n",
      "188.50662061024755\n"
     ]
    }
   ],
   "source": [
    "# To check working Day has an effect on the number of electric cycles rented or not\n",
    "# H0 - Working Day (both 0 and 1 i.e working and not working day) has same effect on the count of cycles rented\n",
    "# H1 - Both working and not Working Day has not same effect on the count of cycles rented\n",
    "# Using 2 sample T-Test\n",
    "\n",
    "print(np.mean(data[data['workingday']==1]['count']))\n",
    "print(np.mean(data[data['workingday']==0]['count']))"
   ]
  },
  {
   "cell_type": "code",
   "execution_count": 25,
   "id": "4df67531",
   "metadata": {},
   "outputs": [
    {
     "name": "stdout",
     "output_type": "stream",
     "text": [
      "-109.95076974934595 0.0\n"
     ]
    }
   ],
   "source": [
    "stats, p_val = ttest_ind(data['workingday'], data['count'])\n",
    "print(stats, p_val)"
   ]
  },
  {
   "cell_type": "code",
   "execution_count": 26,
   "id": "66bffbc8",
   "metadata": {},
   "outputs": [],
   "source": [
    "# As p-val is very less than alpha (assuming .05 here), so we can reject the null hypothesis.\n",
    "# So Working Day and not working day has not same effect on cycles rented"
   ]
  },
  {
   "cell_type": "code",
   "execution_count": 27,
   "id": "db865563",
   "metadata": {},
   "outputs": [
    {
     "data": {
      "text/plain": [
       "F_onewayResult(statistic=65.53024112793271, pvalue=5.482069475935669e-42)"
      ]
     },
     "execution_count": 27,
     "metadata": {},
     "output_type": "execute_result"
    }
   ],
   "source": [
    "# To check if No. of cycles rented is similar or different in different weather \n",
    "# ANNOVA for weather of 4 groups\n",
    "# HO: The mean of all 4 groups will be same\n",
    "# H1: The mean of all 4 groups won't be same\n",
    "\n",
    "from scipy.stats import f_oneway\n",
    "gp1 = data[data['weather']==1]['count']\n",
    "gp2 = data[data['weather']==2]['count']\n",
    "gp3 = data[data['weather']==3]['count']\n",
    "gp4 = data[data['weather']==4]['count']\n",
    "f_oneway(gp1, gp2, gp3, gp4)\n",
    "\n",
    "# Result:\n",
    "# As p value is very very less, we can reject the null hypothesis.\n",
    "# So we can say the no of cycles rented is different in different weather.\n"
   ]
  },
  {
   "cell_type": "code",
   "execution_count": 28,
   "id": "b297d6c1",
   "metadata": {},
   "outputs": [
    {
     "data": {
      "text/plain": [
       "F_onewayResult(statistic=236.94671081032106, pvalue=6.164843386499654e-149)"
      ]
     },
     "execution_count": 28,
     "metadata": {},
     "output_type": "execute_result"
    }
   ],
   "source": [
    "# To check if No. of cycles rented is similar or different in different season\n",
    "# ANNOVA for season of 4 groups\n",
    "# HO: The mean of all 4 groups will be same\n",
    "# H1: The mean of all 4 groups won't be same\n",
    "\n",
    "from scipy.stats import f_oneway\n",
    "\n",
    "gp1 = data[data['season']==1]['count']\n",
    "gp2 = data[data['season']==2]['count']\n",
    "gp3 = data[data['season']==3]['count']\n",
    "gp4 = data[data['season']==4]['count']\n",
    "f_oneway(gp1, gp2, gp3, gp4)\n",
    "\n",
    "# Result:\n",
    "# As p value is very very less, we can reject the null hypothesis.\n",
    "# So we can say the no of cycles rented is different in different season.\n"
   ]
  },
  {
   "cell_type": "code",
   "execution_count": 29,
   "id": "fd93027a",
   "metadata": {},
   "outputs": [
    {
     "name": "stdout",
     "output_type": "stream",
     "text": [
      "      w1   w2   w3  w4\n",
      "s1  1759  715  211   1\n",
      "s2  1801  708  224   0\n",
      "s3  1930  604  199   0\n",
      "s4  1702  807  225   0\n",
      "chi_stat: 49.158655596893624, p-value: 1.549925073686492e-07\n"
     ]
    }
   ],
   "source": [
    "# To check if Weather is dependent on the season\n",
    "# Chi-square test\n",
    "# H0: \"season\" and \"weather\" are independent feature.\n",
    "# H1: \"season\" and \"weather\" are not independent feature.\n",
    "\n",
    "from scipy.stats import chi2_contingency\n",
    "\n",
    "x = pd.crosstab(data.season, data.weather, margins = False)\n",
    "x.columns = ['w1', 'w2', 'w3', 'w4']\n",
    "x.index = ['s1', 's2', 's3', 's4']\n",
    "print(x)\n",
    "stat, p, dof, expected = chi2_contingency(x)\n",
    "print(f\"chi_stat: {stat}, p-value: {p}\")\n",
    "\n",
    "#As p value is very very less (assuming alpha = 0.05) than alpha so null hypothesis can be rejected.\n",
    "# We can say that \"season\" and \"weather\" are not independent feature."
   ]
  },
  {
   "cell_type": "code",
   "execution_count": null,
   "id": "18f610f3",
   "metadata": {},
   "outputs": [],
   "source": []
  },
  {
   "cell_type": "code",
   "execution_count": null,
   "id": "c75106fe",
   "metadata": {},
   "outputs": [],
   "source": []
  },
  {
   "cell_type": "code",
   "execution_count": null,
   "id": "bb4e56c1",
   "metadata": {},
   "outputs": [],
   "source": []
  },
  {
   "cell_type": "code",
   "execution_count": null,
   "id": "da25193f",
   "metadata": {},
   "outputs": [],
   "source": []
  }
 ],
 "metadata": {
  "kernelspec": {
   "display_name": "Python 3 (ipykernel)",
   "language": "python",
   "name": "python3"
  },
  "language_info": {
   "codemirror_mode": {
    "name": "ipython",
    "version": 3
   },
   "file_extension": ".py",
   "mimetype": "text/x-python",
   "name": "python",
   "nbconvert_exporter": "python",
   "pygments_lexer": "ipython3",
   "version": "3.9.13"
  }
 },
 "nbformat": 4,
 "nbformat_minor": 5
}
